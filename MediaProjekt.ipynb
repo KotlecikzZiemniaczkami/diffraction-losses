{
 "cells": [
  {
   "cell_type": "markdown",
   "id": "a2d028c9",
   "metadata": {},
   "source": [
    "# calculation of diffraction losses from Fresnel equations"
   ]
  },
  {
   "cell_type": "code",
   "execution_count": 285,
   "id": "55ebbd92",
   "metadata": {},
   "outputs": [],
   "source": [
    "import pandas as pd\n",
    "import numpy as np\n",
    "import matplotlib as plt\n",
    "import math as math\n",
    "import scipy.integrate as sci\n",
    "from scipy.integrate import quad\n",
    "import cmath"
   ]
  },
  {
   "cell_type": "markdown",
   "id": "2833569c",
   "metadata": {},
   "source": [
    "## making a list containing all possible heights of transmitter and receiver"
   ]
  },
  {
   "cell_type": "code",
   "execution_count": 286,
   "id": "6c040867",
   "metadata": {},
   "outputs": [],
   "source": [
    "revceiver_transmitter_height = []\n",
    "for i in range(10000):\n",
    "    revceiver_transmitter_height.append(i)"
   ]
  },
  {
   "cell_type": "markdown",
   "id": "e19961e3",
   "metadata": {},
   "source": [
    "## creating a data frame"
   ]
  },
  {
   "cell_type": "code",
   "execution_count": 287,
   "id": "09de7441",
   "metadata": {},
   "outputs": [],
   "source": [
    "fresnelLoses = pd.DataFrame({'height of receiver and transmitter': revceiver_transmitter_height})"
   ]
  },
  {
   "cell_type": "markdown",
   "id": "02af96b9",
   "metadata": {},
   "source": [
    "## function which will count diffraction parameter"
   ]
  },
  {
   "cell_type": "code",
   "execution_count": 288,
   "id": "d5c26542",
   "metadata": {},
   "outputs": [],
   "source": [
    "# r_t_h is height of receiver and transmitter\n",
    "def counting_v(r_t_h, d1, d2, building_height = 30):\n",
    "    f = 900 * (10 ** 6)\n",
    "    h = building_height - r_t_h\n",
    "    c = 299792458  # wave speed in vacuum\n",
    "    wavelength = c / f\n",
    "    v = 2*(d1 + d2)\n",
    "    v = v / (wavelength * d1 * d2)\n",
    "    v = h * math.sqrt(v)\n",
    "    if (v > 3 or v < -5):\n",
    "        return np.nan\n",
    "    return v"
   ]
  },
  {
   "cell_type": "markdown",
   "id": "db9f4553",
   "metadata": {},
   "source": [
    "## adding diffraction parameter to frame"
   ]
  },
  {
   "cell_type": "code",
   "execution_count": 289,
   "id": "a1dd629d",
   "metadata": {},
   "outputs": [],
   "source": [
    "fresnelLoses['v'] = fresnelLoses.apply(lambda row: counting_v(row['height of receiver and transmitter'],\n",
    "                                                              d1=1000,\n",
    "                                                              d2=300,),\n",
    "                                       axis=1)"
   ]
  },
  {
   "cell_type": "markdown",
   "id": "b5161e4e",
   "metadata": {},
   "source": [
    "## deleting all values becouse of which v is higher than 3 or lower than -5"
   ]
  },
  {
   "cell_type": "code",
   "execution_count": 290,
   "id": "30bbf868",
   "metadata": {},
   "outputs": [],
   "source": [
    "fresnelLoses.dropna(inplace = True)"
   ]
  },
  {
   "cell_type": "markdown",
   "id": "5ab5ca00",
   "metadata": {},
   "source": [
    "## funtion to calculate diffraction lossess"
   ]
  },
  {
   "cell_type": "code",
   "execution_count": 291,
   "id": "95108456",
   "metadata": {},
   "outputs": [],
   "source": [
    "def diflosscos(t):\n",
    "    return math.cos((math.pi/2) * (t**2))\n",
    "\n",
    "def diflosssin(t):\n",
    "    return math.sin((math.pi/2) * (t**2))"
   ]
  },
  {
   "cell_type": "code",
   "execution_count": 292,
   "id": "69a09e76",
   "metadata": {},
   "outputs": [],
   "source": [
    "def difloss(v):\n",
    "    c, _ = quad(diflosscos, 0, v) # calka c(u) czyli cos (pod calka od 0 do v)\n",
    "    s, _ = quad(diflosssin, 0, v)\n",
    "    loss = ((1+1j)/2)*(((1/2)-c)-1j*((1/2) - s)) #sci.quad(diflossintegral, v, np.inf)\n",
    "    return abs(loss)"
   ]
  },
  {
   "cell_type": "markdown",
   "id": "1a9c41a3",
   "metadata": {},
   "source": [
    "## calculating final result"
   ]
  },
  {
   "cell_type": "code",
   "execution_count": 293,
   "id": "24328636",
   "metadata": {},
   "outputs": [],
   "source": [
    "def final_result_in_db(w):\n",
    "    return 20 * math.log10(w)"
   ]
  },
  {
   "cell_type": "markdown",
   "id": "523be17d",
   "metadata": {},
   "source": [
    "## calculating diffraction lossess"
   ]
  },
  {
   "cell_type": "code",
   "execution_count": 294,
   "id": "d6326940",
   "metadata": {},
   "outputs": [],
   "source": [
    "# fresnelLoses['diffraction losses [dB]'] = fresnelLoses['v1'].apply(difloss)\n",
    "fresnelLoses['attenuation factor'] = fresnelLoses['v'].apply(difloss)\n",
    "fresnelLoses['diffraction losses [dB]'] = fresnelLoses['attenuation factor'].apply(final_result_in_db)"
   ]
  },
  {
   "cell_type": "markdown",
   "id": "adc1752d",
   "metadata": {},
   "source": [
    "## result"
   ]
  },
  {
   "cell_type": "code",
   "execution_count": 295,
   "id": "fbea80c3",
   "metadata": {},
   "outputs": [],
   "source": [
    "fresnelLoses = fresnelLoses.reset_index(drop=True)"
   ]
  },
  {
   "cell_type": "code",
   "execution_count": 296,
   "id": "d95089ac",
   "metadata": {},
   "outputs": [
    {
     "data": {
      "text/html": [
       "<div>\n",
       "<style scoped>\n",
       "    .dataframe tbody tr th:only-of-type {\n",
       "        vertical-align: middle;\n",
       "    }\n",
       "\n",
       "    .dataframe tbody tr th {\n",
       "        vertical-align: top;\n",
       "    }\n",
       "\n",
       "    .dataframe thead th {\n",
       "        text-align: right;\n",
       "    }\n",
       "</style>\n",
       "<table border=\"1\" class=\"dataframe\">\n",
       "  <thead>\n",
       "    <tr style=\"text-align: right;\">\n",
       "      <th></th>\n",
       "      <th>height of receiver and transmitter</th>\n",
       "      <th>v</th>\n",
       "      <th>attenuation factor</th>\n",
       "      <th>diffraction losses [dB]</th>\n",
       "    </tr>\n",
       "  </thead>\n",
       "  <tbody>\n",
       "    <tr>\n",
       "      <th>0</th>\n",
       "      <td>12</td>\n",
       "      <td>2.903417</td>\n",
       "      <td>0.077259</td>\n",
       "      <td>-22.241074</td>\n",
       "    </tr>\n",
       "    <tr>\n",
       "      <th>1</th>\n",
       "      <td>13</td>\n",
       "      <td>2.742116</td>\n",
       "      <td>0.081735</td>\n",
       "      <td>-21.751817</td>\n",
       "    </tr>\n",
       "    <tr>\n",
       "      <th>2</th>\n",
       "      <td>14</td>\n",
       "      <td>2.580815</td>\n",
       "      <td>0.086749</td>\n",
       "      <td>-21.234715</td>\n",
       "    </tr>\n",
       "    <tr>\n",
       "      <th>3</th>\n",
       "      <td>15</td>\n",
       "      <td>2.419514</td>\n",
       "      <td>0.092398</td>\n",
       "      <td>-20.686743</td>\n",
       "    </tr>\n",
       "    <tr>\n",
       "      <th>4</th>\n",
       "      <td>16</td>\n",
       "      <td>2.258213</td>\n",
       "      <td>0.098805</td>\n",
       "      <td>-20.104460</td>\n",
       "    </tr>\n",
       "    <tr>\n",
       "      <th>5</th>\n",
       "      <td>17</td>\n",
       "      <td>2.096912</td>\n",
       "      <td>0.106121</td>\n",
       "      <td>-19.483960</td>\n",
       "    </tr>\n",
       "    <tr>\n",
       "      <th>6</th>\n",
       "      <td>18</td>\n",
       "      <td>1.935612</td>\n",
       "      <td>0.114540</td>\n",
       "      <td>-18.820847</td>\n",
       "    </tr>\n",
       "    <tr>\n",
       "      <th>7</th>\n",
       "      <td>19</td>\n",
       "      <td>1.774311</td>\n",
       "      <td>0.124305</td>\n",
       "      <td>-18.110227</td>\n",
       "    </tr>\n",
       "    <tr>\n",
       "      <th>8</th>\n",
       "      <td>20</td>\n",
       "      <td>1.613010</td>\n",
       "      <td>0.135726</td>\n",
       "      <td>-17.346755</td>\n",
       "    </tr>\n",
       "    <tr>\n",
       "      <th>9</th>\n",
       "      <td>21</td>\n",
       "      <td>1.451709</td>\n",
       "      <td>0.149198</td>\n",
       "      <td>-16.524761</td>\n",
       "    </tr>\n",
       "    <tr>\n",
       "      <th>10</th>\n",
       "      <td>22</td>\n",
       "      <td>1.290408</td>\n",
       "      <td>0.165225</td>\n",
       "      <td>-15.638494</td>\n",
       "    </tr>\n",
       "    <tr>\n",
       "      <th>11</th>\n",
       "      <td>23</td>\n",
       "      <td>1.129107</td>\n",
       "      <td>0.184448</td>\n",
       "      <td>-14.682536</td>\n",
       "    </tr>\n",
       "    <tr>\n",
       "      <th>12</th>\n",
       "      <td>24</td>\n",
       "      <td>0.967806</td>\n",
       "      <td>0.207673</td>\n",
       "      <td>-13.652417</td>\n",
       "    </tr>\n",
       "    <tr>\n",
       "      <th>13</th>\n",
       "      <td>25</td>\n",
       "      <td>0.806505</td>\n",
       "      <td>0.235900</td>\n",
       "      <td>-12.545452</td>\n",
       "    </tr>\n",
       "    <tr>\n",
       "      <th>14</th>\n",
       "      <td>26</td>\n",
       "      <td>0.645204</td>\n",
       "      <td>0.270341</td>\n",
       "      <td>-11.361763</td>\n",
       "    </tr>\n",
       "    <tr>\n",
       "      <th>15</th>\n",
       "      <td>27</td>\n",
       "      <td>0.483903</td>\n",
       "      <td>0.312414</td>\n",
       "      <td>-10.105401</td>\n",
       "    </tr>\n",
       "    <tr>\n",
       "      <th>16</th>\n",
       "      <td>28</td>\n",
       "      <td>0.322602</td>\n",
       "      <td>0.363688</td>\n",
       "      <td>-8.785411</td>\n",
       "    </tr>\n",
       "    <tr>\n",
       "      <th>17</th>\n",
       "      <td>29</td>\n",
       "      <td>0.161301</td>\n",
       "      <td>0.425760</td>\n",
       "      <td>-7.416705</td>\n",
       "    </tr>\n",
       "    <tr>\n",
       "      <th>18</th>\n",
       "      <td>30</td>\n",
       "      <td>0.000000</td>\n",
       "      <td>0.500000</td>\n",
       "      <td>-6.020600</td>\n",
       "    </tr>\n",
       "    <tr>\n",
       "      <th>19</th>\n",
       "      <td>31</td>\n",
       "      <td>-0.161301</td>\n",
       "      <td>0.587148</td>\n",
       "      <td>-4.625050</td>\n",
       "    </tr>\n",
       "    <tr>\n",
       "      <th>20</th>\n",
       "      <td>32</td>\n",
       "      <td>-0.322602</td>\n",
       "      <td>0.686699</td>\n",
       "      <td>-3.264669</td>\n",
       "    </tr>\n",
       "    <tr>\n",
       "      <th>21</th>\n",
       "      <td>33</td>\n",
       "      <td>-0.483903</td>\n",
       "      <td>0.796089</td>\n",
       "      <td>-1.980764</td>\n",
       "    </tr>\n",
       "    <tr>\n",
       "      <th>22</th>\n",
       "      <td>34</td>\n",
       "      <td>-0.645204</td>\n",
       "      <td>0.909746</td>\n",
       "      <td>-0.821601</td>\n",
       "    </tr>\n",
       "    <tr>\n",
       "      <th>23</th>\n",
       "      <td>35</td>\n",
       "      <td>-0.806505</td>\n",
       "      <td>1.018231</td>\n",
       "      <td>0.156929</td>\n",
       "    </tr>\n",
       "    <tr>\n",
       "      <th>24</th>\n",
       "      <td>36</td>\n",
       "      <td>-0.967806</td>\n",
       "      <td>1.107940</td>\n",
       "      <td>0.890323</td>\n",
       "    </tr>\n",
       "    <tr>\n",
       "      <th>25</th>\n",
       "      <td>37</td>\n",
       "      <td>-1.129107</td>\n",
       "      <td>1.162123</td>\n",
       "      <td>1.305042</td>\n",
       "    </tr>\n",
       "    <tr>\n",
       "      <th>26</th>\n",
       "      <td>38</td>\n",
       "      <td>-1.290408</td>\n",
       "      <td>1.164439</td>\n",
       "      <td>1.322333</td>\n",
       "    </tr>\n",
       "    <tr>\n",
       "      <th>27</th>\n",
       "      <td>39</td>\n",
       "      <td>-1.451709</td>\n",
       "      <td>1.106645</td>\n",
       "      <td>0.880163</td>\n",
       "    </tr>\n",
       "    <tr>\n",
       "      <th>28</th>\n",
       "      <td>40</td>\n",
       "      <td>-1.613010</td>\n",
       "      <td>1.002259</td>\n",
       "      <td>0.019603</td>\n",
       "    </tr>\n",
       "    <tr>\n",
       "      <th>29</th>\n",
       "      <td>41</td>\n",
       "      <td>-1.774311</td>\n",
       "      <td>0.903774</td>\n",
       "      <td>-0.878801</td>\n",
       "    </tr>\n",
       "    <tr>\n",
       "      <th>30</th>\n",
       "      <td>42</td>\n",
       "      <td>-1.935612</td>\n",
       "      <td>0.891524</td>\n",
       "      <td>-0.997336</td>\n",
       "    </tr>\n",
       "    <tr>\n",
       "      <th>31</th>\n",
       "      <td>43</td>\n",
       "      <td>-2.096912</td>\n",
       "      <td>0.981215</td>\n",
       "      <td>-0.164716</td>\n",
       "    </tr>\n",
       "    <tr>\n",
       "      <th>32</th>\n",
       "      <td>44</td>\n",
       "      <td>-2.258213</td>\n",
       "      <td>1.078097</td>\n",
       "      <td>0.653155</td>\n",
       "    </tr>\n",
       "    <tr>\n",
       "      <th>33</th>\n",
       "      <td>45</td>\n",
       "      <td>-2.419514</td>\n",
       "      <td>1.081852</td>\n",
       "      <td>0.683355</td>\n",
       "    </tr>\n",
       "    <tr>\n",
       "      <th>34</th>\n",
       "      <td>46</td>\n",
       "      <td>-2.580815</td>\n",
       "      <td>0.985947</td>\n",
       "      <td>-0.122930</td>\n",
       "    </tr>\n",
       "    <tr>\n",
       "      <th>35</th>\n",
       "      <td>47</td>\n",
       "      <td>-2.742116</td>\n",
       "      <td>0.918271</td>\n",
       "      <td>-0.740587</td>\n",
       "    </tr>\n",
       "    <tr>\n",
       "      <th>36</th>\n",
       "      <td>48</td>\n",
       "      <td>-2.903417</td>\n",
       "      <td>0.991605</td>\n",
       "      <td>-0.073227</td>\n",
       "    </tr>\n",
       "    <tr>\n",
       "      <th>37</th>\n",
       "      <td>49</td>\n",
       "      <td>-3.064718</td>\n",
       "      <td>1.071847</td>\n",
       "      <td>0.602652</td>\n",
       "    </tr>\n",
       "    <tr>\n",
       "      <th>38</th>\n",
       "      <td>50</td>\n",
       "      <td>-3.226019</td>\n",
       "      <td>1.014508</td>\n",
       "      <td>0.125107</td>\n",
       "    </tr>\n",
       "    <tr>\n",
       "      <th>39</th>\n",
       "      <td>51</td>\n",
       "      <td>-3.387320</td>\n",
       "      <td>0.933843</td>\n",
       "      <td>-0.594521</td>\n",
       "    </tr>\n",
       "    <tr>\n",
       "      <th>40</th>\n",
       "      <td>52</td>\n",
       "      <td>-3.548621</td>\n",
       "      <td>1.009575</td>\n",
       "      <td>0.082770</td>\n",
       "    </tr>\n",
       "    <tr>\n",
       "      <th>41</th>\n",
       "      <td>53</td>\n",
       "      <td>-3.709922</td>\n",
       "      <td>1.056270</td>\n",
       "      <td>0.475502</td>\n",
       "    </tr>\n",
       "    <tr>\n",
       "      <th>42</th>\n",
       "      <td>54</td>\n",
       "      <td>-3.871223</td>\n",
       "      <td>0.961669</td>\n",
       "      <td>-0.339490</td>\n",
       "    </tr>\n",
       "    <tr>\n",
       "      <th>43</th>\n",
       "      <td>55</td>\n",
       "      <td>-4.032524</td>\n",
       "      <td>0.979920</td>\n",
       "      <td>-0.176186</td>\n",
       "    </tr>\n",
       "    <tr>\n",
       "      <th>44</th>\n",
       "      <td>56</td>\n",
       "      <td>-4.193825</td>\n",
       "      <td>1.053257</td>\n",
       "      <td>0.450685</td>\n",
       "    </tr>\n",
       "    <tr>\n",
       "      <th>45</th>\n",
       "      <td>57</td>\n",
       "      <td>-4.355126</td>\n",
       "      <td>0.966845</td>\n",
       "      <td>-0.292860</td>\n",
       "    </tr>\n",
       "    <tr>\n",
       "      <th>46</th>\n",
       "      <td>58</td>\n",
       "      <td>-4.516427</td>\n",
       "      <td>0.992511</td>\n",
       "      <td>-0.065293</td>\n",
       "    </tr>\n",
       "    <tr>\n",
       "      <th>47</th>\n",
       "      <td>59</td>\n",
       "      <td>-4.677728</td>\n",
       "      <td>1.040455</td>\n",
       "      <td>0.344464</td>\n",
       "    </tr>\n",
       "    <tr>\n",
       "      <th>48</th>\n",
       "      <td>60</td>\n",
       "      <td>-4.839029</td>\n",
       "      <td>0.954021</td>\n",
       "      <td>-0.408841</td>\n",
       "    </tr>\n",
       "  </tbody>\n",
       "</table>\n",
       "</div>"
      ],
      "text/plain": [
       "    height of receiver and transmitter         v  attenuation factor  \\\n",
       "0                                   12  2.903417            0.077259   \n",
       "1                                   13  2.742116            0.081735   \n",
       "2                                   14  2.580815            0.086749   \n",
       "3                                   15  2.419514            0.092398   \n",
       "4                                   16  2.258213            0.098805   \n",
       "5                                   17  2.096912            0.106121   \n",
       "6                                   18  1.935612            0.114540   \n",
       "7                                   19  1.774311            0.124305   \n",
       "8                                   20  1.613010            0.135726   \n",
       "9                                   21  1.451709            0.149198   \n",
       "10                                  22  1.290408            0.165225   \n",
       "11                                  23  1.129107            0.184448   \n",
       "12                                  24  0.967806            0.207673   \n",
       "13                                  25  0.806505            0.235900   \n",
       "14                                  26  0.645204            0.270341   \n",
       "15                                  27  0.483903            0.312414   \n",
       "16                                  28  0.322602            0.363688   \n",
       "17                                  29  0.161301            0.425760   \n",
       "18                                  30  0.000000            0.500000   \n",
       "19                                  31 -0.161301            0.587148   \n",
       "20                                  32 -0.322602            0.686699   \n",
       "21                                  33 -0.483903            0.796089   \n",
       "22                                  34 -0.645204            0.909746   \n",
       "23                                  35 -0.806505            1.018231   \n",
       "24                                  36 -0.967806            1.107940   \n",
       "25                                  37 -1.129107            1.162123   \n",
       "26                                  38 -1.290408            1.164439   \n",
       "27                                  39 -1.451709            1.106645   \n",
       "28                                  40 -1.613010            1.002259   \n",
       "29                                  41 -1.774311            0.903774   \n",
       "30                                  42 -1.935612            0.891524   \n",
       "31                                  43 -2.096912            0.981215   \n",
       "32                                  44 -2.258213            1.078097   \n",
       "33                                  45 -2.419514            1.081852   \n",
       "34                                  46 -2.580815            0.985947   \n",
       "35                                  47 -2.742116            0.918271   \n",
       "36                                  48 -2.903417            0.991605   \n",
       "37                                  49 -3.064718            1.071847   \n",
       "38                                  50 -3.226019            1.014508   \n",
       "39                                  51 -3.387320            0.933843   \n",
       "40                                  52 -3.548621            1.009575   \n",
       "41                                  53 -3.709922            1.056270   \n",
       "42                                  54 -3.871223            0.961669   \n",
       "43                                  55 -4.032524            0.979920   \n",
       "44                                  56 -4.193825            1.053257   \n",
       "45                                  57 -4.355126            0.966845   \n",
       "46                                  58 -4.516427            0.992511   \n",
       "47                                  59 -4.677728            1.040455   \n",
       "48                                  60 -4.839029            0.954021   \n",
       "\n",
       "    diffraction losses [dB]  \n",
       "0                -22.241074  \n",
       "1                -21.751817  \n",
       "2                -21.234715  \n",
       "3                -20.686743  \n",
       "4                -20.104460  \n",
       "5                -19.483960  \n",
       "6                -18.820847  \n",
       "7                -18.110227  \n",
       "8                -17.346755  \n",
       "9                -16.524761  \n",
       "10               -15.638494  \n",
       "11               -14.682536  \n",
       "12               -13.652417  \n",
       "13               -12.545452  \n",
       "14               -11.361763  \n",
       "15               -10.105401  \n",
       "16                -8.785411  \n",
       "17                -7.416705  \n",
       "18                -6.020600  \n",
       "19                -4.625050  \n",
       "20                -3.264669  \n",
       "21                -1.980764  \n",
       "22                -0.821601  \n",
       "23                 0.156929  \n",
       "24                 0.890323  \n",
       "25                 1.305042  \n",
       "26                 1.322333  \n",
       "27                 0.880163  \n",
       "28                 0.019603  \n",
       "29                -0.878801  \n",
       "30                -0.997336  \n",
       "31                -0.164716  \n",
       "32                 0.653155  \n",
       "33                 0.683355  \n",
       "34                -0.122930  \n",
       "35                -0.740587  \n",
       "36                -0.073227  \n",
       "37                 0.602652  \n",
       "38                 0.125107  \n",
       "39                -0.594521  \n",
       "40                 0.082770  \n",
       "41                 0.475502  \n",
       "42                -0.339490  \n",
       "43                -0.176186  \n",
       "44                 0.450685  \n",
       "45                -0.292860  \n",
       "46                -0.065293  \n",
       "47                 0.344464  \n",
       "48                -0.408841  "
      ]
     },
     "execution_count": 296,
     "metadata": {},
     "output_type": "execute_result"
    }
   ],
   "source": [
    "fresnelLoses"
   ]
  },
  {
   "cell_type": "markdown",
   "id": "b7509ffe",
   "metadata": {},
   "source": [
    "## plot of |w(v)|"
   ]
  },
  {
   "cell_type": "code",
   "execution_count": 297,
   "id": "2c9a684c",
   "metadata": {},
   "outputs": [
    {
     "data": {
      "text/plain": [
       "<Axes: xlabel='v'>"
      ]
     },
     "execution_count": 297,
     "metadata": {},
     "output_type": "execute_result"
    },
    {
     "data": {
      "image/png": "[encoded data removed]",
      "text/plain": [
       "<Figure size 640x480 with 1 Axes>"
      ]
     },
     "metadata": {},
     "output_type": "display_data"
    }
   ],
   "source": [
    "fresnelLoses.plot(x = 'v',y = 'attenuation factor', kind = 'line')"
   ]
  },
  {
   "cell_type": "code",
   "execution_count": 298,
   "id": "a30cbb7e",
   "metadata": {},
   "outputs": [
    {
     "data": {
      "text/plain": [
       "<Axes: xlabel='v'>"
      ]
     },
     "execution_count": 298,
     "metadata": {},
     "output_type": "execute_result"
    },
    {
     "data": {
      "image/png": "[encoded data removed]",
      "text/plain": [
       "<Figure size 640x480 with 1 Axes>"
      ]
     },
     "metadata": {},
     "output_type": "display_data"
    }
   ],
   "source": [
    "fresnelLoses.plot(x = 'v',y = 'diffraction losses [dB]' , kind = 'line', colormap = 'inferno')"
   ]
  },
  {
   "cell_type": "code",
   "execution_count": 255,
   "id": "176894a8",
   "metadata": {},
   "outputs": [
    {
     "data": {
      "text/plain": [
       "<Axes: xlabel='v'>"
      ]
     },
     "execution_count": 255,
     "metadata": {},
     "output_type": "execute_result"
    },
    {
     "data": {
      "image/png": "[encoded data removed]",
      "text/plain": [
       "<Figure size 640x480 with 1 Axes>"
      ]
     },
     "metadata": {},
     "output_type": "display_data"
    }
   ],
   "source": [
    "fresnelLoses.plot(x = 'v',y = 'height of receiver and transmitter' , kind = 'line', colormap = 'inferno')"
   ]
  },
  {
   "cell_type": "code",
   "execution_count": null,
   "id": "acd4639f",
   "metadata": {},
   "outputs": [],
   "source": []
  }
 ],
 "metadata": {
  "kernelspec": {
   "display_name": "Python 3 (ipykernel)",
   "language": "python",
   "name": "python3"
  },
  "language_info": {
   "codemirror_mode": {
    "name": "ipython",
    "version": 3
   },
   "file_extension": ".py",
   "mimetype": "text/x-python",
   "name": "python",
   "nbconvert_exporter": "python",
   "pygments_lexer": "ipython3",
   "version": "3.9.18"
  }
 },
 "nbformat": 4,
 "nbformat_minor": 5
}
